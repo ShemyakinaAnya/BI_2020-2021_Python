{
 "cells": [
  {
   "cell_type": "code",
   "execution_count": 1,
   "id": "opening-belarus",
   "metadata": {},
   "outputs": [],
   "source": [
    "import numpy as np\n",
    "import cv2"
   ]
  },
  {
   "cell_type": "code",
   "execution_count": 5,
   "id": "dying-springer",
   "metadata": {},
   "outputs": [],
   "source": [
    "img = cv2.imread('circle.png',0)     # convert RBG to gray scale\n",
    "cv2.imshow('input image', img)\n",
    "cv2.waitKey(0)\n",
    "cv2.destroyAllWindows()"
   ]
  },
  {
   "cell_type": "code",
   "execution_count": 6,
   "id": "dirty-instrumentation",
   "metadata": {},
   "outputs": [],
   "source": [
    "img = cv2.medianBlur(img,5)     # remove noise\n",
    "cimg = cv2.cvtColor(img,cv2.COLOR_GRAY2BGR)     # allow colours to circle detected circle\n",
    "\n",
    "circles = cv2.HoughCircles(img, cv2.HOUGH_GRADIENT, 1, 20, param1=50,param2=30,minRadius=0,maxRadius=0)\n",
    "\n",
    "if circles is not None:\n",
    "    circles = np.uint16(np.around(circles))     #round circle(s)'s radius and coordinates\n",
    "    for i in circles[0,:]:\n",
    "        cv2.circle(cimg,(i[0],i[1]),i[2],(0,255,0),2)             # draw the outer circle\n",
    "        cv2.circle(cimg,(i[0],i[1]),2,(0,0,255),3)                # draw the center of the circle\n",
    "    cv2.imshow('detected circles',cimg)\n",
    "    cv2.waitKey(0)\n",
    "    cv2.destroyAllWindows()\n",
    "else:\n",
    "    print(\"No circles were detected (lines may be too thin)\")"
   ]
  }
 ],
 "metadata": {
  "kernelspec": {
   "display_name": "Python 3",
   "language": "python",
   "name": "python3"
  },
  "language_info": {
   "codemirror_mode": {
    "name": "ipython",
    "version": 3
   },
   "file_extension": ".py",
   "mimetype": "text/x-python",
   "name": "python",
   "nbconvert_exporter": "python",
   "pygments_lexer": "ipython3",
   "version": "3.8.5"
  }
 },
 "nbformat": 4,
 "nbformat_minor": 5
}
